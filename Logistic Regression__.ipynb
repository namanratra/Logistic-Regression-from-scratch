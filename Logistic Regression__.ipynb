{
 "cells": [
  {
   "cell_type": "code",
   "execution_count": 1,
   "metadata": {},
   "outputs": [],
   "source": [
    "import numpy as np\n",
    "import pandas as pd\n",
    "import matplotlib.pyplot as plt"
   ]
  },
  {
   "cell_type": "code",
   "execution_count": 2,
   "metadata": {},
   "outputs": [
    {
     "data": {
      "text/html": [
       "<div>\n",
       "<style scoped>\n",
       "    .dataframe tbody tr th:only-of-type {\n",
       "        vertical-align: middle;\n",
       "    }\n",
       "\n",
       "    .dataframe tbody tr th {\n",
       "        vertical-align: top;\n",
       "    }\n",
       "\n",
       "    .dataframe thead th {\n",
       "        text-align: right;\n",
       "    }\n",
       "</style>\n",
       "<table border=\"1\" class=\"dataframe\">\n",
       "  <thead>\n",
       "    <tr style=\"text-align: right;\">\n",
       "      <th></th>\n",
       "      <th>label</th>\n",
       "      <th>x1</th>\n",
       "      <th>x2</th>\n",
       "    </tr>\n",
       "  </thead>\n",
       "  <tbody>\n",
       "    <tr>\n",
       "      <th>0</th>\n",
       "      <td>0</td>\n",
       "      <td>0.655965</td>\n",
       "      <td>-1.063205</td>\n",
       "    </tr>\n",
       "    <tr>\n",
       "      <th>1</th>\n",
       "      <td>1</td>\n",
       "      <td>-7.084630</td>\n",
       "      <td>2.034800</td>\n",
       "    </tr>\n",
       "    <tr>\n",
       "      <th>2</th>\n",
       "      <td>1</td>\n",
       "      <td>-2.420879</td>\n",
       "      <td>-2.639450</td>\n",
       "    </tr>\n",
       "    <tr>\n",
       "      <th>3</th>\n",
       "      <td>1</td>\n",
       "      <td>-4.278147</td>\n",
       "      <td>-0.410740</td>\n",
       "    </tr>\n",
       "    <tr>\n",
       "      <th>4</th>\n",
       "      <td>0</td>\n",
       "      <td>-1.081851</td>\n",
       "      <td>3.804022</td>\n",
       "    </tr>\n",
       "  </tbody>\n",
       "</table>\n",
       "</div>"
      ],
      "text/plain": [
       "   label        x1        x2\n",
       "0      0  0.655965 -1.063205\n",
       "1      1 -7.084630  2.034800\n",
       "2      1 -2.420879 -2.639450\n",
       "3      1 -4.278147 -0.410740\n",
       "4      0 -1.081851  3.804022"
      ]
     },
     "execution_count": 2,
     "metadata": {},
     "output_type": "execute_result"
    }
   ],
   "source": [
    "df = pd.read_csv('ps2_data-1.csv')\n",
    "df.head(5)"
   ]
  },
  {
   "cell_type": "code",
   "execution_count": 3,
   "metadata": {},
   "outputs": [],
   "source": [
    "def config_df():\n",
    "    \"\"\"\n",
    "        config_df() is a function to specifically load \n",
    "        and reconfigure the dataset.\n",
    "        \n",
    "        The function takes no argument, but will load the\n",
    "        data file and reconfigure it each time it is run.\n",
    "        \n",
    "        The output should be a pandas dataframe assigned to\n",
    "        the variable 'df'\n",
    "    \"\"\"\n",
    "    # load original dataset\n",
    "    df = pd.read_csv('ps2_data-1.csv')\n",
    "    df = df.rename(columns={'label': 'Insolvent', 'x1': 'ROE', 'x2': 'Current_Ratio'})\n",
    "    df = df[['ROE', 'Current_Ratio', 'Insolvent']]\n",
    "    return df"
   ]
  },
  {
   "cell_type": "code",
   "execution_count": 5,
   "metadata": {},
   "outputs": [],
   "source": [
    "def array_maker(df):\n",
    "    \"\"\"\n",
    "       The function array_maker takes an n-column dataframe \n",
    "       df, with m rows, and returns:\n",
    "        \n",
    "         X, a (m x n-1) feature matrix\n",
    "         y, a column vector\n",
    "       \n",
    "       You should assume that the dataframe is arranged where the last\n",
    "       column is the target variable, y.\n",
    "    \"\"\"\n",
    "    # YOUR CODE HERE\n",
    "    X = df.iloc[:,0:-1].values\n",
    "    y = df.iloc[:,-1].values\n",
    "    return X, y"
   ]
  },
  {
   "cell_type": "code",
   "execution_count": 7,
   "metadata": {},
   "outputs": [
    {
     "data": {
      "image/png": "[encoded data removed]",
      "text/plain": [
       "<Figure size 432x288 with 1 Axes>"
      ]
     },
     "metadata": {
      "needs_background": "light"
     },
     "output_type": "display_data"
    }
   ],
   "source": [
    "mask = y.flatten() == 1\n",
    "insolv = plt.scatter(X[mask][:,0], X[mask][:,1])\n",
    "solv = plt.scatter(X[~mask][:,0], X[~mask][:,1])\n",
    "plt.ylim(-7, 11) \n",
    "plt.xlabel('ROE')\n",
    "plt.ylabel('Current_Ratio')\n",
    "plt.legend((insolv, solv), ('Insolvent', 'Solvent'))\n",
    "plt.show()"
   ]
  },
  {
   "cell_type": "code",
   "execution_count": 8,
   "metadata": {},
   "outputs": [],
   "source": [
    "def sigmoid(z):\n",
    "    \"\"\"implementation of the sigmoid function,\n",
    "    which takes input z, a positive or negative \n",
    "    real number, and returns a value between \n",
    "    0 and 1.\n",
    "    \n",
    "    \"\"\"\n",
    "    gz = 1/(1 + np.exp(-z))\n",
    "    return gz"
   ]
  },
  {
   "cell_type": "code",
   "execution_count": 9,
   "metadata": {},
   "outputs": [],
   "source": [
    "# Public Test \n",
    "assert sigmoid(0) == 0.5\n",
    "assert round(sigmoid(.5),5) == 0.62246"
   ]
  },
  {
   "cell_type": "code",
   "execution_count": 10,
   "metadata": {},
   "outputs": [],
   "source": [
    "def computeJ(theta, X, y):\n",
    "    \"\"\"\n",
    "        computeCostFunction() computes the cost function\n",
    "        J for logistic regression.\n",
    "        \n",
    "    \"\"\"\n",
    "    # number of training samples\n",
    "    m = len(y)  \n",
    "    h = sigmoid(np.dot(X, theta))\n",
    "    J = -1/m * np.sum( np.multiply(np.log(h), y) + np.multiply(np.log(1-h), (1-y)))\n",
    "    return J"
   ]
  },
  {
   "cell_type": "code",
   "execution_count": 12,
   "metadata": {},
   "outputs": [],
   "source": [
    "def computeGradient(theta, X, y):\n",
    "    \"\"\"\n",
    "        computeGradient() computes the gradient\n",
    "        grad for logistic regression\"\"\"\n",
    "    # number of training samples\n",
    "    m = len(y)\n",
    "    h = sigmoid(np.dot(X, theta))\n",
    "    grad = (1/m)*np.dot(X.T, (h - y))\n",
    "    return grad"
   ]
  },
  {
   "cell_type": "code",
   "execution_count": 13,
   "metadata": {},
   "outputs": [],
   "source": [
    "def costFunction(theta, X, y):\n",
    "    \"\"\"Executable cost function\"\"\"\n",
    "    # use cost function\n",
    "    J = computeJ(theta, X, y)\n",
    "    \n",
    "    # use gradient function\n",
    "    grad = computeGradient(theta, X, y)\n",
    "    \n",
    "    return J, grad "
   ]
  },
  {
   "cell_type": "code",
   "execution_count": 14,
   "metadata": {},
   "outputs": [],
   "source": [
    "def computeGradient(theta, X, y):\n",
    "    \"\"\"\n",
    "        computeGradient() computes the gradient\n",
    "        grad for logistic regression\"\"\"\n",
    "    # number of training samples\n",
    "    m = len(y)\n",
    "    \n",
    "    # YOUR CODE HERE\n",
    "    h = sigmoid(np.dot(X, theta))\n",
    "    grad = (1/m)*np.dot(X.T, (h - y))\n",
    "    return grad"
   ]
  },
  {
   "cell_type": "code",
   "execution_count": 15,
   "metadata": {},
   "outputs": [],
   "source": [
    "def costFunction(theta, X, y):\n",
    "    \"\"\"Executable cost function\"\"\"\n",
    "    # use cost function\n",
    "    J = computeJ(theta, X, y)\n",
    "    \n",
    "    # use gradient function\n",
    "    grad = computeGradient(theta, X, y)\n",
    "    \n",
    "    return J, grad "
   ]
  },
  {
   "cell_type": "code",
   "execution_count": 16,
   "metadata": {},
   "outputs": [
    {
     "name": "stdout",
     "output_type": "stream",
     "text": [
      "Cost at initial theta (zeros): 0.6931471805599454\n",
      "Gradient at inital theta (zeros): [0.00141643 1.31783649 0.93191404]\n"
     ]
    }
   ],
   "source": [
    "# setup the data matrix appropriately\n",
    "m, n = X.shape\n",
    "\n",
    "# add intercept term to X\n",
    "X = np.hstack((np.ones((m, 1)), X))\n",
    "\n",
    "# initalize theta\n",
    "initial_theta = np.zeros(n+1)\n",
    "\n",
    "# compute and display initial cost and gradient\n",
    "J, grad = costFunction(initial_theta, X, y)\n",
    "\n",
    "# print cost J at initialization\n",
    "print('Cost at initial theta (zeros): {0}'.format(J))\n",
    "# print gradiate at initialization\n",
    "print('Gradient at inital theta (zeros): {0}'.format(grad))"
   ]
  },
  {
   "cell_type": "code",
   "execution_count": 18,
   "metadata": {},
   "outputs": [
    {
     "name": "stdout",
     "output_type": "stream",
     "text": [
      "Optimization terminated successfully.\n",
      "         Current function value: 0.210453\n",
      "         Iterations: 14\n",
      "         Function evaluations: 15\n",
      "         Gradient evaluations: 15\n"
     ]
    }
   ],
   "source": [
    "# Compute optimal parameter vector \n",
    "# theta_opt using BFGS\n",
    "\n",
    "from scipy.optimize import fmin_bfgs\n",
    "theta_opt = fmin_bfgs(computeJ, initial_theta, fprime=computeGradient,\n",
    "                maxiter=100, args=(X,y), disp=True)"
   ]
  },
  {
   "cell_type": "code",
   "execution_count": 19,
   "metadata": {},
   "outputs": [
    {
     "data": {
      "image/png": "[encoded data removed]",
      "text/plain": [
       "<Figure size 432x288 with 1 Axes>"
      ]
     },
     "metadata": {
      "needs_background": "light"
     },
     "output_type": "display_data"
    }
   ],
   "source": [
    "# Plot Decision Boundary\n",
    "mask = y.flatten() == 1\n",
    "insolv = plt.scatter(X[mask][:,1], X[mask][:,2])\n",
    "solv = plt.scatter(X[~mask][:,1], X[~mask][:,2])\n",
    "plt.ylim(-7, 11) \n",
    "plt.xlabel('ROE')\n",
    "plt.ylabel('Current_Ratio')\n",
    "plt.legend((insolv, solv), ('Insolvent', 'Solvent'))\n",
    "plot_x = [-10, 8]\n",
    "plot_y = -1/theta_opt[2]*(theta_opt[0] \n",
    "          + np.dot(theta_opt[1],plot_x))\n",
    "plt.plot(plot_x, plot_y, '-', c=\"red\")\n",
    "plt.show()"
   ]
  },
  {
   "cell_type": "code",
   "execution_count": 20,
   "metadata": {},
   "outputs": [],
   "source": [
    "def probabilityInsolvent(score1, score2, theta):\n",
    "    \"\"\"\n",
    "        probabilityInsolvent calculates the probability that a\n",
    "        firm is insolvent based on two indicators:\n",
    "        \n",
    "          score1, which in our model is the ROE score;\n",
    "          score2, which in our model is the Current Ratio;\n",
    "        \n",
    "        according to the logistic regression model parameterized by \n",
    "        \n",
    "          theta, the fitted parameter vector\n",
    "          \n",
    "        and the features matrix X and labeled category vector y.\n",
    " \n",
    "    \"\"\"\n",
    "    #construct a 1 x 2 array from score1 and score2\n",
    "    scores = np.array([score1, score2])\n",
    "    \n",
    "    # add a 1 to the front of scores, yielding \n",
    "    # a 1 x 3 array\n",
    "    scores = np.hstack((np.array([1]), scores))\n",
    "    \n",
    "    prob = sigmoid(np.dot(scores,theta))\n",
    "    return prob"
   ]
  },
  {
   "cell_type": "code",
   "execution_count": 21,
   "metadata": {},
   "outputs": [
    {
     "data": {
      "text/plain": [
       "0.3971584898269463"
      ]
     },
     "execution_count": 21,
     "metadata": {},
     "output_type": "execute_result"
    }
   ],
   "source": [
    "# Compute the probability of insolvency\n",
    "probabilityInsolvent(0.0, 0.0, theta_opt)"
   ]
  }
 ],
 "metadata": {
  "kernelspec": {
   "display_name": "Python 3",
   "language": "python",
   "name": "python3"
  },
  "language_info": {
   "codemirror_mode": {
    "name": "ipython",
    "version": 3
   },
   "file_extension": ".py",
   "mimetype": "text/x-python",
   "name": "python",
   "nbconvert_exporter": "python",
   "pygments_lexer": "ipython3",
   "version": "3.7.8"
  }
 },
 "nbformat": 4,
 "nbformat_minor": 4
}
